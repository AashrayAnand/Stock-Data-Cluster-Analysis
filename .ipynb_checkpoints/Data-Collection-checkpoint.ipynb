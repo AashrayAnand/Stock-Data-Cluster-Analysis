{
 "cells": [
  {
   "cell_type": "code",
   "execution_count": 199,
   "metadata": {},
   "outputs": [],
   "source": [
    "#\n",
    "import requests\n",
    "from bs4 import BeautifulSoup\n",
    "\n",
    "# plotting\n",
    "import seaborn as sns\n",
    "import matplotlib.pyplot as plt\n",
    "\n",
    "# sklearn\n",
    "from sklearn.cluster import KMeans\n",
    "from sklearn.metrics import silhouette_score\n",
    "\n",
    "# pandas\n",
    "import pandas as pd"
   ]
  },
  {
   "cell_type": "code",
   "execution_count": 200,
   "metadata": {},
   "outputs": [],
   "source": [
    "# URL to get S&P tickers from\n",
    "TICKER_URL = 'https://en.wikipedia.org/wiki/List_of_S%26P_500_companies'\n",
    "\n",
    "# multi-level identifier, to select each row of ticker table in HTML response\n",
    "TABLE_IDENTIFIER = '#constituents tbody tr td'\n",
    "\n",
    "# yahoo finance URL we can use to scrape data for each company\n",
    "YAHOO_URL = 'http://finance.yahoo.com/quote/'\n",
    "\n",
    "# HTML classes for various elements on yahoo finance page\n",
    "\n",
    "YAHOO_TABLE_CLASS = 'Ta(end) Fw(600) Lh(14px)'\n",
    "# EPS (TTM) react-id\n",
    "# Open price react-id\n",
    "# Div/Yield react-id\n",
    "YAHOO_IDS = ['OPEN-value', 'EPS_RATIO-value', 'DIVIDEND_AND_YIELD-value']"
   ]
  },
  {
   "cell_type": "code",
   "execution_count": 201,
   "metadata": {},
   "outputs": [],
   "source": [
    "# get HTML content from wikipedia S&P 500 page\n",
    "res = BeautifulSoup(requests.get(TICKER_URL).text, 'html.parser')"
   ]
  },
  {
   "cell_type": "code",
   "execution_count": 202,
   "metadata": {},
   "outputs": [],
   "source": [
    "# get the table of stock ticker data, selecting on TABLE_ID\n",
    "table_data = [ticker for ticker in res.select(TABLE_IDENTIFIER)]"
   ]
  },
  {
   "cell_type": "code",
   "execution_count": 203,
   "metadata": {},
   "outputs": [],
   "source": [
    "# iterate over each row of table (9 elements of information), and extract the individual tickers\n",
    "tickers = [table_data[i].text for i in range(0, len(table_data), 9)]"
   ]
  },
  {
   "cell_type": "code",
   "execution_count": null,
   "metadata": {},
   "outputs": [
    {
     "name": "stdout",
     "output_type": "stream",
     "text": [
      "error for BF.B\n",
      "\n"
     ]
    }
   ],
   "source": [
    "def get_yahoo_ticker_data(tickers):\n",
    "    ticker_data = []\n",
    "    # make GET request for specified ticker\n",
    "    for i, ticker in enumerate(tickers):\n",
    "        try:\n",
    "            REQ_URL = YAHOO_URL + ticker[:-1] + '?p=' + ticker[:-1]\n",
    "            ticker_i_res = requests.get(REQ_URL)\n",
    "            ticker_i_parser = BeautifulSoup(ticker_i_res.text, 'html.parser')\n",
    "\n",
    "            ticker_i_data = [ticker[:-1]]\n",
    "            ticker_i_open_eps_div = [ticker_i_parser.find(attrs={'class': YAHOO_TABLE_CLASS, 'data-test': id_}).text for id_ in YAHOO_IDS]\n",
    "            for data in ticker_i_open_eps_div:\n",
    "                    ticker_i_data.append(data)\n",
    "            ticker_data.append(ticker_i_data)\n",
    "        except:\n",
    "            print(\"error for \" + ticker)\n",
    "            continue\n",
    "    return ticker_data\n",
    "\n",
    "# iterate over stock tickers, and get 1 year of time-series data\n",
    "market_data = pd.DataFrame()\n",
    "yahoo_data = get_yahoo_ticker_data(tickers)\n",
    "yahoo_data[:5]\n",
    "    # request yahoo finance data for current ticker\n",
    "    \n",
    "    # will include:\n",
    "    # EPS (TTM) => earnings per share for trailing 12 months\n",
    "    # Dividend/Yield => dividend per share / price per share\n",
    "    # \n",
    "\n",
    "df = pd.DataFrame(yahoo_data, columns=['ticker', 'open', 'eps', 'div'],)\n",
    "df.head()"
   ]
  },
  {
   "cell_type": "code",
   "execution_count": null,
   "metadata": {},
   "outputs": [],
   "source": [
    "df['div'] = df['div'].replace({'N/A (N/A)': ''})"
   ]
  },
  {
   "cell_type": "code",
   "execution_count": null,
   "metadata": {},
   "outputs": [],
   "source": [
    "df['div']"
   ]
  },
  {
   "cell_type": "code",
   "execution_count": null,
   "metadata": {},
   "outputs": [],
   "source": []
  },
  {
   "cell_type": "code",
   "execution_count": null,
   "metadata": {},
   "outputs": [],
   "source": []
  }
 ],
 "metadata": {
  "kernelspec": {
   "display_name": "Python 3",
   "language": "python",
   "name": "python3"
  },
  "language_info": {
   "codemirror_mode": {
    "name": "ipython",
    "version": 3
   },
   "file_extension": ".py",
   "mimetype": "text/x-python",
   "name": "python",
   "nbconvert_exporter": "python",
   "pygments_lexer": "ipython3",
   "version": "3.6.9"
  }
 },
 "nbformat": 4,
 "nbformat_minor": 2
}
